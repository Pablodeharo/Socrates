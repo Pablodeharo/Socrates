{
 "cells": [
  {
   "cell_type": "code",
   "execution_count": 1,
   "metadata": {},
   "outputs": [],
   "source": [
    "import pandas as pd\n",
    "import os"
   ]
  },
  {
   "cell_type": "code",
   "execution_count": 2,
   "metadata": {},
   "outputs": [
    {
     "name": "stdout",
     "output_type": "stream",
     "text": [
      "Argumentos:\n",
      "                                           argumento  \\\n",
      "0  ,Clitofon, acusado por Sócrates de haber censu...   \n",
      "1  ,El objeto de este diálogo es la Amistad, títu...   \n",
      "2  ,Timeo, nacido entre los locrios epicefirianos...   \n",
      "3  ,Según una tradición, que no tenemos necesidad...   \n",
      "4  ,No debe orarse ligeramente. Dirigir a los dio...   \n",
      "\n",
      "                            titulo  \n",
      "0            Argumento de Clitofon  \n",
      "1               Argumento de Lisis  \n",
      "2     Argumento de Timeo de Locres  \n",
      "3               Argumento de Fedro  \n",
      "4  Argumento de segundo Alcibíades  \n",
      "\n",
      "Diálogos:\n",
      "                                             dialogo              titulo\n",
      "0  Texto: \\n\\nTexto: Clitofon, acusado por Sócrat...            Clitofon\n",
      "1  Texto: \\n\\nTexto: El\\n\\nTexto: El relato histó...               Fedón\n",
      "2  Texto: \\n\\nTexto: Timeo, nacido entre los locr...     Timeo de Locres\n",
      "3  Texto: \\n\\nTexto: No debe orarse ligeramente. ...  segundo Alcibíades\n",
      "4  Texto: \\n\\nTexto: Sócrates\\n\\nTexto: Clitofon,...            Clitofon\n",
      "\n",
      "Escritos:\n",
      "                                           contenido        titulo\n",
      "0  Este testamento, atribuido a Platón por Diógen...    Testamento\n",
      "1  Clitofon, acusado por Sócrates de haber censur...      Clitofon\n",
      "2  Estas ciento ochenta y cinco definiciones, que...  Definiciones\n",
      "3  La correspondencia que sigue comprende trece c...        Cartas\n",
      "4  ¿Qué es lo justo? Este es el comienzo , y el a...   De lo justo\n"
     ]
    }
   ],
   "source": [
    "# carga de archivos\n",
    "argumentos_df = pd.read_csv(r\"C:\\Users\\Lucas\\Desktop\\Socrates\\llm_proyect\\data\\corpus\\argumentos.csv\")  \n",
    "dialogos_df = pd.read_csv(r\"C:\\Users\\Lucas\\Desktop\\Socrates\\llm_proyect\\data\\corpus\\dialogos.csv\")      \n",
    "escritos_df = pd.read_csv(r\"C:\\Users\\Lucas\\Desktop\\Socrates\\llm_proyect\\data\\corpus\\escritos.csv\")\n",
    "\n",
    "print(\"Argumentos:\")\n",
    "print(argumentos_df.head())\n",
    "\n",
    "print(\"\\nDiálogos:\")\n",
    "print(dialogos_df.head())\n",
    "\n",
    "print(\"\\nEscritos:\")\n",
    "print(escritos_df.head())"
   ]
  },
  {
   "cell_type": "code",
   "execution_count": 3,
   "metadata": {},
   "outputs": [
    {
     "name": "stdout",
     "output_type": "stream",
     "text": [
      "                            titulo  \\\n",
      "0            Argumento de Clitofon   \n",
      "1               Argumento de Lisis   \n",
      "2     Argumento de Timeo de Locres   \n",
      "3               Argumento de Fedro   \n",
      "4  Argumento de segundo Alcibíades   \n",
      "\n",
      "                                           argumento  \n",
      "0  Clitofon, acusado por Sócrates de haber censur...  \n",
      "1  El objeto de este diálogo es la Amistad, títul...  \n",
      "2  Timeo, nacido entre los locrios epicefirianos ...  \n",
      "3  Según una tradición, que no tenemos necesidad ...  \n",
      "4  No debe orarse ligeramente. Dirigir a los dios...  \n"
     ]
    }
   ],
   "source": [
    "# Limpiar el conjunto de datos de argumentos\n",
    "argumentos_df['argumento'] = argumentos_df['argumento'].str.lstrip(',').str.strip()  # Eliminar coma inicial y espacios\n",
    "argumentos_df.dropna(subset=['argumento', 'titulo'], inplace=True)  # Eliminar filas con valores nulos\n",
    "argumentos_df.reset_index(drop=True, inplace=True)  \n",
    "# Reordenar columnas del DataFrame de argumentos\n",
    "argumentos_df = argumentos_df[['titulo', 'argumento']]\n",
    "# Verificar la limpieza\n",
    "print(argumentos_df.head())"
   ]
  },
  {
   "cell_type": "code",
   "execution_count": 4,
   "metadata": {},
   "outputs": [
    {
     "name": "stdout",
     "output_type": "stream",
     "text": [
      "               titulo                                            dialogo\n",
      "0            Clitofon  Texto: \\n\\nTexto: Clitofon, acusado por Sócrat...\n",
      "1               Fedón  Texto: \\n\\nTexto: El\\n\\nTexto: El relato histó...\n",
      "2     Timeo de Locres  Texto: \\n\\nTexto: Timeo, nacido entre los locr...\n",
      "3  segundo Alcibíades  Texto: \\n\\nTexto: No debe orarse ligeramente. ...\n",
      "4            Clitofon  Texto: \\n\\nTexto: Sócrates\\n\\nTexto: Clitofon,...\n"
     ]
    }
   ],
   "source": [
    "# Limpiar el conjunto de datos de diálogos\n",
    "dialogos_df['dialogo'] = dialogos_df['dialogo'].str.lstrip(',').str.strip()  # Eliminar coma inicial y espacios\n",
    "dialogos_df.reset_index(drop=True, inplace=True)  \n",
    "# Reordenar columnas del DataFrame de diálogos\n",
    "dialogos_df = dialogos_df[['titulo', 'dialogo']]\n",
    "\n",
    "# Verificar la limpieza\n",
    "print(dialogos_df.head())"
   ]
  },
  {
   "cell_type": "code",
   "execution_count": 5,
   "metadata": {},
   "outputs": [
    {
     "name": "stdout",
     "output_type": "stream",
     "text": [
      "               titulo                                            dialogo\n",
      "0            Clitofon   Clitofon, acusado por Sócrates de haber censu...\n",
      "1               Fedón   El El relato histórico consiste en la pintura...\n",
      "2     Timeo de Locres   Timeo, nacido entre los locrios epicefirianos...\n",
      "3  segundo Alcibíades   No debe orarse ligeramente. Dirigir a los dio...\n",
      "4            Clitofon   Sócrates Clitofon, hijo de Aristonimo, me han...\n"
     ]
    }
   ],
   "source": [
    "# Limpiar los diálogos eliminando 'Texto: ' y '\\n\\n'\n",
    "dialogos_df['dialogo'] = dialogos_df['dialogo'].str.replace('Texto: ', '', regex=False)  # Eliminar 'Texto: '\n",
    "dialogos_df['dialogo'] = dialogos_df['dialogo'].str.replace('\\n\\n', ' ', regex=False)  # Reemplazar '\\n\\n' con un espacio\n",
    "\n",
    "# Verificar la limpieza\n",
    "print(dialogos_df.head())"
   ]
  },
  {
   "cell_type": "code",
   "execution_count": 6,
   "metadata": {},
   "outputs": [
    {
     "name": "stdout",
     "output_type": "stream",
     "text": [
      "                                           contenido        titulo\n",
      "0  Este testamento, atribuido a Platón por Diógen...    Testamento\n",
      "1  Clitofon, acusado por Sócrates de haber censur...      Clitofon\n",
      "2  Estas ciento ochenta y cinco definiciones, que...  Definiciones\n",
      "3  La correspondencia que sigue comprende trece c...        Cartas\n",
      "4  ¿Qué es lo justo? Este es el comienzo , y el a...   De lo justo\n"
     ]
    }
   ],
   "source": [
    "# Limpiar el conjunto de datos de escritos\n",
    "escritos_df['contenido'] = escritos_df['contenido'].str.strip()  # Eliminar espacios en blanco en el contenido\n",
    "escritos_df['titulo'] = escritos_df['titulo'].str.strip()  # Eliminar espacios en blanco en el título\n",
    "escritos_df.dropna(subset=['contenido', 'titulo'], inplace=True)  # Eliminar filas con valores nulos\n",
    "escritos_df.reset_index(drop=True, inplace=True)  \n",
    "\n",
    "# Verificar la limpieza\n",
    "print(escritos_df.head())"
   ]
  },
  {
   "cell_type": "code",
   "execution_count": 7,
   "metadata": {},
   "outputs": [
    {
     "name": "stdout",
     "output_type": "stream",
     "text": [
      "Títulos de los Argumentos:\n",
      "['Argumento de Clitofon' 'Argumento de Lisis'\n",
      " 'Argumento de Timeo de Locres' 'Argumento de Fedro'\n",
      " 'Argumento de segundo Alcibíades' 'Argumento de Ion'\n",
      " 'Argumento de Eutidemo' 'Argumento de Laques' 'Argumento de Filebo'\n",
      " 'Argumento de Fedón' 'Argumento de El banquete' 'Argumento de Carmides'\n",
      " 'Argumento del primer Alcibiades' 'Argumento de Critón'\n",
      " 'Argumento de Apología de Sócrates' 'Argumento de Eutifrón']\n",
      "\n",
      "\n"
     ]
    }
   ],
   "source": [
    "# Mostrar los títulos de los argumentos\n",
    "print(\"Títulos de los Argumentos:\")\n",
    "print(argumentos_df['titulo'].unique()) \n",
    "print(\"\\n\")"
   ]
  },
  {
   "cell_type": "code",
   "execution_count": 8,
   "metadata": {},
   "outputs": [
    {
     "name": "stdout",
     "output_type": "stream",
     "text": [
      "Títulos de los Diálogos:\n",
      "['Clitofon' 'Fedón' 'Timeo de Locres' 'segundo Alcibíades' 'Eutidemo'\n",
      " 'El banquete' 'El segundo Alcibíades' 'Filebo' 'Fedro' 'Lisis' 'Ion'\n",
      " 'Laques' 'Carmides' 'Critón' 'primer Alcibiades' 'Critón o el deber'\n",
      " 'Eutifrón' 'Apología de Sócrates' 'Diálogos' 'El primer Alcibiades'\n",
      " 'Examen histórico-crítico de los sistemas filosóficos modernos,'\n",
      " 'De dogmate Platonis']\n",
      "\n",
      "\n"
     ]
    }
   ],
   "source": [
    "# Mostrar los títulos de los diálogos\n",
    "print(\"Títulos de los Diálogos:\")\n",
    "print(dialogos_df['titulo'].unique())  # Muestra el número de títulos únicos\n",
    "print(\"\\n\")"
   ]
  },
  {
   "cell_type": "code",
   "execution_count": 9,
   "metadata": {},
   "outputs": [
    {
     "name": "stdout",
     "output_type": "stream",
     "text": [
      "Títulos de los Diálogos después de eliminar:\n",
      "['Clitofon' 'Fedón' 'Timeo de Locres' 'segundo Alcibíades' 'Eutidemo'\n",
      " 'El banquete' 'El segundo Alcibíades' 'Filebo' 'Fedro' 'Lisis' 'Ion'\n",
      " 'Laques' 'Carmides' 'Critón' 'primer Alcibiades' 'Critón o el deber'\n",
      " 'Eutifrón' 'Apología de Sócrates' 'El primer Alcibiades']\n",
      "\n",
      "\n"
     ]
    }
   ],
   "source": [
    "# Lista de títulos a eliminar\n",
    "titulos_a_eliminar = ['De dogmate Platonis', 'Examen histórico-crítico de los sistemas filosóficos modernos,', 'Diálogos']\n",
    "\n",
    "# Filtrar los diálogos eliminando los títulos no deseados\n",
    "dialogos_df = dialogos_df[~dialogos_df['titulo'].isin(titulos_a_eliminar)]\n",
    "\n",
    "# Verificar la limpieza\n",
    "print(\"Títulos de los Diálogos después de eliminar:\")\n",
    "print(dialogos_df['titulo'].unique())  # Muestra los títulos únicos después de eliminar\n",
    "print(\"\\n\")"
   ]
  },
  {
   "cell_type": "code",
   "execution_count": 10,
   "metadata": {},
   "outputs": [
    {
     "name": "stdout",
     "output_type": "stream",
     "text": [
      "Títulos de los Escritos:\n",
      "['Testamento' 'Clitofon' 'Definiciones' 'Cartas' 'De lo justo' 'Poesías'\n",
      " 'De la virtud' 'Axioco' 'Erixias' 'Minos' 'Epinomis o el filósofo'\n",
      " 'Timeo de Locres' 'Los rivales' 'Hiparco' 'Teages o de la ciencia'\n",
      " 'Las Leyes' 'El segundo Alcibíades' 'Segundo Hipias'\n",
      " 'La República o de lo justo' 'Argumento de las' 'Argumento de la'\n",
      " 'Critias o la Atlántida' 'Fedon o del alma' 'Timeo o de la naturaleza'\n",
      " 'El político o de la soberanía' 'El Banquete o del amor'\n",
      " 'Gorgias o de la retórica' 'Cratilo o de la propiedad de los nombres'\n",
      " 'Menon o de la virtud' 'Parménides o de las ideas'\n",
      " 'Eutidemo o el disputador' 'El sofista o del ser' 'Fedro o de la belleza'\n",
      " 'Teetetes o de la ciencia' 'Filebo o del placer' 'Lisis o de la amistad'\n",
      " 'Ion o de la poesía' 'Menexenes' 'El primer Hipias o de lo bello'\n",
      " 'Protágoras o los sofistas' 'El primer Alcibiades' 'Laques o del valor'\n",
      " 'Carmides o de la sabiduría' 'Critón o el deber' 'Apología de Sócrates'\n",
      " 'Eutifrón o de la santidad' 'Observaciones sobre' 'Noticias biográficas'\n",
      " 'Introducción']\n",
      "\n",
      "\n"
     ]
    }
   ],
   "source": [
    "# Mostrar los títulos de los escritos\n",
    "print(\"Títulos de los Escritos:\")\n",
    "print(escritos_df['titulo'].unique())  # Muestra títulos únicos para evitar repeticiones\n",
    "print(\"\\n\")"
   ]
  },
  {
   "cell_type": "code",
   "execution_count": 11,
   "metadata": {},
   "outputs": [
    {
     "name": "stdout",
     "output_type": "stream",
     "text": [
      "Títulos filtrados:\n",
      "['Clitofon' 'Cartas' 'De lo justo' 'De la virtud' 'Axioco' 'Erixias'\n",
      " 'Minos' 'Epinomis o el filósofo' 'Timeo de Locres' 'Los rivales'\n",
      " 'Hiparco' 'Teages o de la ciencia' 'Las Leyes' 'El segundo Alcibíades'\n",
      " 'Segundo Hipias' 'Critias o la Atlántida' 'Fedon o del alma'\n",
      " 'Timeo o de la naturaleza' 'El político o de la soberanía'\n",
      " 'El Banquete o del amor' 'Gorgias o de la retórica'\n",
      " 'Cratilo o de la propiedad de los nombres' 'Menon o de la virtud'\n",
      " 'Parménides o de las ideas' 'Eutidemo o el disputador'\n",
      " 'El sofista o del ser' 'Fedro o de la belleza' 'Teetetes o de la ciencia'\n",
      " 'Filebo o del placer' 'Lisis o de la amistad' 'Ion o de la poesía'\n",
      " 'Menexenes' 'El primer Hipias o de lo bello' 'Protágoras o los sofistas'\n",
      " 'El primer Alcibiades' 'Laques o del valor' 'Carmides o de la sabiduría'\n",
      " 'Critón o el deber' 'Apología de Sócrates' 'Eutifrón o de la santidad']\n"
     ]
    }
   ],
   "source": [
    "# Lista de títulos relevantes (ajusta según tus necesidades)\n",
    "titulos_relevantes = [\n",
    "    'Cartas', 'Timeo de Locres', 'De lo justo', 'De la virtud', 'Axioco',\n",
    "    'Erixias', 'Epinomis o el filósofo', 'Clitofon', 'Minos', 'Los rivales',\n",
    "    'Hiparco', 'Segundo Hipias', 'Las Leyes', 'Teages o de la ciencia',\n",
    "    'El segundo Alcibíades', 'Critias o la Atlántida', 'El político o de la soberanía',\n",
    "    'El Banquete o del amor', 'Timeo o de la naturaleza', 'Gorgias o de la retórica',\n",
    "    'Fedon o del alma', 'Menon o de la virtud', 'Cratilo o de la propiedad de los nombres',\n",
    "    'El sofista o del ser', 'Parménides o de las ideas', 'Lisis o de la amistad',\n",
    "    'Teetetes o de la ciencia', 'Filebo o del placer', 'Eutidemo o el disputador',\n",
    "    'Ion o de la poesía', 'Fedro o de la belleza', 'Carmides o de la sabiduría',\n",
    "    'El primer Hipias o de lo bello', 'Menexenes', 'Protágoras o los sofistas',\n",
    "    'Laques o del valor', 'El primer Alcibiades', 'Critón o el deber',\n",
    "    'Apología de Sócrates', 'Eutifrón o de la santidad'\n",
    "]\n",
    "\n",
    "# Filtrar el DataFrame para que solo contenga títulos relevantes\n",
    "escritos_df = escritos_df[escritos_df['titulo'].isin(titulos_relevantes)]\n",
    "\n",
    "# Verificar los títulos restantes\n",
    "print(\"Títulos filtrados:\")\n",
    "print(escritos_df['titulo'].unique())"
   ]
  },
  {
   "cell_type": "code",
   "execution_count": 12,
   "metadata": {},
   "outputs": [
    {
     "name": "stdout",
     "output_type": "stream",
     "text": [
      "Archivos guardados correctamente en: C:\\Users\\Lucas\\Desktop\\Socrates\\llm_proyect\\data\\limpios\n"
     ]
    }
   ],
   "source": [
    "# Definir el directorio de salida\n",
    "output_directory = r\"C:\\Users\\Lucas\\Desktop\\Socrates\\llm_proyect\\data\\limpios\"\n",
    "\n",
    "# Crear el directorio si no existe\n",
    "os.makedirs(output_directory, exist_ok=True)\n",
    "\n",
    "# Guardar los DataFrames procesados\n",
    "argumentos_df.to_csv(os.path.join(output_directory, \"argumentos_procesados.csv\"), index=False)\n",
    "dialogos_df.to_csv(os.path.join(output_directory, \"dialogos_procesados.csv\"), index=False)\n",
    "escritos_df.to_csv(os.path.join(output_directory, \"escritos_procesados.csv\"), index=False)\n",
    "\n",
    "print(\"Archivos guardados correctamente en:\", output_directory)"
   ]
  }
 ],
 "metadata": {
  "kernelspec": {
   "display_name": "Python 3",
   "language": "python",
   "name": "python3"
  },
  "language_info": {
   "codemirror_mode": {
    "name": "ipython",
    "version": 3
   },
   "file_extension": ".py",
   "mimetype": "text/x-python",
   "name": "python",
   "nbconvert_exporter": "python",
   "pygments_lexer": "ipython3",
   "version": "3.11.4"
  }
 },
 "nbformat": 4,
 "nbformat_minor": 2
}
