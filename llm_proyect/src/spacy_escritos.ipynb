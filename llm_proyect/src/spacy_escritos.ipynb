{
 "cells": [
  {
   "cell_type": "code",
   "execution_count": 1,
   "metadata": {},
   "outputs": [],
   "source": [
    "import spacy\n",
    "import pandas as pd\n",
    "from spacy import displacy\n",
    "import os"
   ]
  },
  {
   "cell_type": "code",
   "execution_count": 2,
   "metadata": {},
   "outputs": [
    {
     "name": "stdout",
     "output_type": "stream",
     "text": [
      "                                           contenido        titulo\n",
      "0  Clitofon, acusado por Sócrates de haber censur...      Clitofon\n",
      "1  La correspondencia que sigue comprende trece c...        Cartas\n",
      "2  ¿Qué es lo justo? Este es el comienzo , y el a...   De lo justo\n",
      "3  Hé aquí otra serie de preguntas y respuestas d...  De la virtud\n",
      "4  La vida no es más que un viaje; y es natural, ...        Axioco\n"
     ]
    }
   ],
   "source": [
    "# Cargar el archivo CSV\n",
    "df = pd.read_csv(r\"C:\\Users\\Lucas\\Desktop\\Socrates\\llm_proyect\\data\\limpios\\escritos_procesados.csv\")\n",
    "\n",
    "# Ver las primeras filas para entender la estructura\n",
    "print(df.head())"
   ]
  },
  {
   "cell_type": "code",
   "execution_count": 3,
   "metadata": {},
   "outputs": [],
   "source": [
    "# Carga modelo español large\n",
    "nlp = spacy.load('es_core_news_lg')"
   ]
  },
  {
   "cell_type": "code",
   "execution_count": 4,
   "metadata": {},
   "outputs": [],
   "source": [
    "\"\"\"\n",
    "Funcion procesamiento de texto\n",
    "Tokenizacion\n",
    "Lematizacion convertir palabras a su forma base\n",
    "Eliminacion de stopwords (Quita palabras sin valor semántico)\n",
    "\"\"\"\n",
    "def procesar_escrito(texto):\n",
    "    doc = nlp(texto)\n",
    "    tokens = [token.lemma_.lower() for token in doc if not token.is_stop and not token.is_punct]\n",
    "    return \" \".join(tokens)"
   ]
  },
  {
   "cell_type": "code",
   "execution_count": 5,
   "metadata": {},
   "outputs": [
    {
     "name": "stdout",
     "output_type": "stream",
     "text": [
      "         titulo                                contenido_procesado\n",
      "0      Clitofon  clitofon acusado sócrates censurar conversació...\n",
      "1        Cartas  correspondencia comprender trece carta dirigid...\n",
      "2   De lo justo  justo comienzo asunto diálogo injusto ignoranc...\n",
      "3  De la virtud  hé serie pregunta respuesta interés literario ...\n",
      "4        Axioco  vida viaje natural necesario término término m...\n"
     ]
    }
   ],
   "source": [
    "# Procesar el contenido de los escritos\n",
    "df[\"contenido_procesado\"] = df[\"contenido\"].apply(procesar_escrito)\n",
    "\n",
    "# Mostrar algunos ejemplos procesados\n",
    "print(df[[\"titulo\", \"contenido_procesado\"]].head())"
   ]
  },
  {
   "cell_type": "code",
   "execution_count": 6,
   "metadata": {},
   "outputs": [],
   "source": [
    "def extraer_preguntas(texto):\n",
    "    doc = nlp(texto)\n",
    "    preguntas = [sent.text for sent in doc.sents if \"?\" in sent.text]\n",
    "    return preguntas"
   ]
  },
  {
   "cell_type": "code",
   "execution_count": 7,
   "metadata": {},
   "outputs": [
    {
     "name": "stdout",
     "output_type": "stream",
     "text": [
      "Clitofon - Preguntas Filosóficas:\n",
      "Cartas - Preguntas Filosóficas:\n",
      "De lo justo - Preguntas Filosóficas:\n",
      "¿Qué es lo justo?\n",
      ",¿Qué demonio ha inspirado a Simón el Socrático la idea de escribir diálogos para fastidio de los traductores, puesto que los hay, y de los lectores, suponiendo que los haya?, , , , , , ,\n",
      "De la virtud - Preguntas Filosóficas:\n",
      "Hé aquí otra serie de preguntas y respuestas de un interés literario y filosófico escaso, por no decir nulo, y que se pueden resumir en las tres preguntas y tres respuestas siguientes:,¿La virtud puede por su naturaleza ser enseñada?\n",
      ",¿Será la virtud un don de la naturaleza, es decir, una cualidad natural?\n",
      ",¿Pero si la virtud no procede ni de la enseñanza ni de la naturaleza, de donde viene? –De los dioses.\n",
      "Axioco - Preguntas Filosóficas:\n",
      "Morir es hacerse insensible, es decir, incapaz de sufrir; y entonces ¿cómo la muerte puede ser un mal?\n",
      "¿Cuál es la edad que no tiene sus dolores?\n",
      "¿Qué oficio, qué arte, qué función deja de dar lugar a disgustos, percances y desesperaciones?\n",
      "Erixias - Preguntas Filosóficas:\n",
      "Minos - Preguntas Filosóficas:\n",
      "Epinomis o el filósofo - Preguntas Filosóficas:\n",
      "Timeo de Locres - Preguntas Filosóficas:\n",
      "Por otra parte, ¿cómo puede admitirse esta identidad perfecta entre el sistema de Pitágoras y el de Platón?\n",
      "Los rivales - Preguntas Filosóficas:\n",
      "¿Consiste el ser filósofo en querer conocer todas las cosas?\n",
      "¿Consiste el ser filósofo en formarse una idea general de todas las ciencias y de todas las artes?\n",
      "¿Cómo, pues, llegará a conseguirlo?\n",
      "Hiparco - Preguntas Filosóficas:\n",
      "Teages o de la ciencia - Preguntas Filosóficas:\n",
      "¿Quieres hacerte un tirano?\n",
      "Las Leyes - Preguntas Filosóficas:\n",
      "El segundo Alcibíades - Preguntas Filosóficas:\n",
      "Segundo Hipias - Preguntas Filosóficas:\n",
      "¿No es permitido suponer, que llegó un día, en que el adversario de los sofistas quiso ejercitarse, para mejor atacarles, con sus propias armas, como lo hizo en el , y en el , y que quiso tener la complacencia de probarse a sí mismo y probar a los sofistas, que sabía, cuando llegaba el caso, ser más sutil, más exagerado, más falso, más sofista, en una palabra, que ellos mismos?\n",
      "Las Leyes - Preguntas Filosóficas:\n",
      "Las Leyes - Preguntas Filosóficas:\n",
      "Las Leyes - Preguntas Filosóficas:\n",
      "Las Leyes - Preguntas Filosóficas:\n",
      "Las Leyes - Preguntas Filosóficas:\n",
      ",Clinias,¿De qué se trata?,Ateniense,De lo siguiente.\n",
      "Las Leyes - Preguntas Filosóficas:\n",
      "Las Leyes - Preguntas Filosóficas:\n",
      "Las Leyes - Preguntas Filosóficas:\n",
      "Ateniense,Dime, te lo suplico; ¿qué idea debemos formar de nuestra futura ciudad?\n",
      ",Ateniense,¿Hay cerca algún puerto o la costa es impracticable?,Clinias,La costa es por todos los puntos de acceso muy cómodo y fácil.\n",
      ",Ateniense,Â¡Por los dioses! ¿qué es lo que me dices?\n",
      "¿Y su territorio produce todo lo necesario a la vida o falta algo?,Clinias,De casi nada carece.\n",
      ",Ateniense,¿Cerca de ella habrá alguna otra ciudad?,Clinias,No, y esta es la causa de enviar allí una colonia.\n",
      "Las Leyes - Preguntas Filosóficas:\n",
      "Ateniense,Basta ya sobre este asunto, y ahora indaguemos el origen de los gobiernos; y para descubrirle ¿no os parece el medio más fácil y más seguro el siguiente?,Clinias,¿Cuál?,Ateniense,El que debe seguirse cuando se intenta examinar los diversos cambios, que sucesivamente han sobrevenido en los Estados, sea para bien o para mal.\n",
      ",Clinias,Y bien, ¿cuál es?,Ateniense,Consiste, a mi juicio, en remontarse al origen de los tiempos casi infinitos que han pasado y a las revoluciones que han tenido lugar en tan largo trascurso.\n",
      ",Clinias,¿Qué quieres decir?,Ateniense,Dime: ¿serías capaz de computar el tiempo que hace que se fundaron las primeras sociedades, y que viven los hombres bajo la protección de las leyes?,Clinias,No es en modo alguno fácil.\n",
      "Las Leyes - Preguntas Filosóficas:\n",
      "Ateniense,Extranjeros, ¿quién pasa entre vosotros por el primer autor de vuestras leyes?\n",
      "¿Es un dios?\n",
      "¿Es un hombre?,Clinias,Extranjero, es un dios; y no podemos conceder semejante título a otro que no sea un dios.\n",
      "¿No es cierto, Megilo?,Megilo,Sí.\n",
      ",Ateniense,¿Refieres el hecho como Homero, el cual dice, que de nueve en nueve años iba Minos puntualmente a ver a su padre, y que en vista de las respuestas de este dios, redactó las leyes para las ciudades de Creta?,Clinias,Tal es, en efecto, la tradición admitida entre nosotros.\n",
      "Las Leyes - Preguntas Filosóficas:\n",
      "¿Qué pensáis de esto?\n",
      "Yo sostengo, que esta otra ventaja se encuentra en ellos, como ya lo he indicado; pero ¿por qué razón y cómo se encuentra?\n",
      "Critias o la Atlántida - Preguntas Filosóficas:\n",
      "¿Será porque el , apenas está comenzado y bosquejado?\n",
      "¿Será, porque no es realmente otra cosa que la misma conversación continuada por los mismos interlocutores, sin intervalo y sin reposo?,Las pocas páginas escritas por Platón pueden resumirse en muy pocas palabras.\n",
      "Fedon o del alma - Preguntas Filosóficas:\n",
      "Timeo o de la naturaleza - Preguntas Filosóficas:\n",
      "El político o de la soberanía - Preguntas Filosóficas:\n",
      "¿Qué es el político?\n",
      "El Banquete o del amor - Preguntas Filosóficas:\n",
      "¡No es esto una imagen sensible de su frugalidad proverbial, de su tendencia decidida a la meditación más que a esa actividad exterior que distrae a los demás hombres?\n",
      "¿De qué se hablará?\n",
      "Gorgias o de la retórica - Preguntas Filosóficas:\n",
      "Cratilo o de la propiedad de los nombres - Preguntas Filosóficas:\n",
      "Los nombres tienen una propiedad; es natural o de pura convención; si es natural, ¿en qué consiste?\n",
      "¿Cómo podría ser esto posible, si los nombres no estuviesen en cierta relación con las cosas, y si su razón de ser dependiese sólo del capricho del inventor?,Hayan dicho lo que quieran Protágoras y Eutidemo, las cosas subsisten en sí mismas según su esencia y su constitución natural.\n",
      "Menon o de la virtud - Preguntas Filosóficas:\n",
      "Sin duda hay virtudes diversas según la edad y la condición de cada individuo; pero el punto en que todas estas virtudes coinciden, la esencia de la virtud, en una palabra, ¿cuál es?\n",
      "¿Será, por ejemplo, la posesión de ciertas cualidades morales, siempre las mismas en los diversos individuos, como la sabiduría y la justicia?\n",
      "¿Cuál es en este caso la definición de la virtud? –Menon responde, que es la capacidad de mandar a los demás.\n",
      "Parménides o de las ideas - Preguntas Filosóficas:\n",
      "Eutidemo o el disputador - Preguntas Filosóficas:\n",
      "El sofista o del ser - Preguntas Filosóficas:\n",
      "¿Qué quiere decir sofista?\n",
      "¿Pero de qué medio nos valdremos para ello y ante todo para definir en general?\n",
      "Fedro o de la belleza - Preguntas Filosóficas:\n",
      ",¿Cuál es el objeto del diálogo?\n",
      "Teetetes o de la ciencia - Preguntas Filosóficas:\n",
      ",Nada más grato que seguir a Platón en la indagación de este problema capital: ¿cuál es la naturaleza de la ciencia?, y saber de su boca cómo había sido resuelta por los padres de la filosofía sensualista, Heráclito y Protágoras, y seguir paso a paso la más vigorosa refutación de esta estrecha doctrina, que, desde los primeros tiempos de la filosofía griega, confundía la inteligencia con la sensibilidad, y reducía a la sola sensación toda la esfera de actividad del espíritu humano.\n",
      "Filebo o del placer - Preguntas Filosóficas:\n",
      "Desde las primeras páginas aparece sentado en el , con las diversas soluciones que puede tener, el siguiente problema: ¿en qué consiste la felicidad del hombre?\n",
      "¿Qué hombre se considera dichoso, aun en medio de los placeres mayores y más vivos, viviendo sin inteligencia, sin memoria, sin ciencia de ninguna clase?\n",
      "Lisis o de la amistad - Preguntas Filosóficas:\n",
      "Ion o de la poesía - Preguntas Filosóficas:\n",
      "Pues entonces, ¿qué es?\n",
      "¿Y las conoce Ion?\n",
      "¿Sabe la medicina, la adivinación, el mando de los ejércitos?\n",
      "Menexenes - Preguntas Filosóficas:\n",
      "El primer Hipias o de lo bello - Preguntas Filosóficas:\n",
      "¿Quién no percibe fácilmente el atractivo poderoso de esta idea, expuesta por el más bello genio de la antigüedad griega?\n",
      "Protágoras o los sofistas - Preguntas Filosóficas:\n",
      "¿Qué otra cosa puede ser sino la virtud?\n",
      "¿la virtud puede ser enseñada?; hé aquí la cuestión.\n",
      "El primer Alcibiades - Preguntas Filosóficas:\n",
      "¿Qué dirá á los atenienses sobre sus negocios?\n",
      "¿Qué consejos les dará?\n",
      "¿Cómo puede saberlo?\n",
      "¿Lo aprendió del pueblo?\n",
      "Laques o del valor - Preguntas Filosóficas:\n",
      "La verdadera cuestión que debe resolverse, si este punto se ha de tratar a fondo, no puede menos de ser la siguiente: ¿Qué es la virtud?\n",
      "¿Y no tiene necesidad el hombre de mostrarse valiente en la enfermedad, en la pobreza, en la buena o mala fortuna y en la lucha con sus pasiones?\n",
      "Carmides o de la sabiduría - Preguntas Filosóficas:\n",
      "¿Qué es por lo tanto la sabiduría?,La mesura, responde Carmides.\n",
      "Critón o el deber - Preguntas Filosóficas:\n",
      "A los lamentos de Critón, en razón del deshonor y desesperación que amagaban a sus amigos, la suerte que estaba reservada a sus hijos condenados a la orfandad, él opuso esta inevitable alternativa: ¿la fuga es justa o injusta?\n",
      "Apología de Sócrates - Preguntas Filosóficas:\n",
      "¿Era este el camino de congraciarse, teniendo en frente los resentimientos profundos que hacía mucho tiempo había excitado su punzante ironía?\n",
      "Eutifrón o de la santidad - Preguntas Filosóficas:\n",
      "¿La santidad consiste, por ejemplo, en tomar por modelos a Saturno y a Júpiter, los más grandes de los dioses, que, según las leyendas, se erigieron uno y otro en jueces de su propio padre?\n",
      "¿Y qué argumentos pueden oponerse  a esta consecuencia?\n",
      "¿Será gratuita y contradictoria esta afirmación, de que los dioses están siempre de acuerdo sobre la santidad de una acción?\n",
      "¿Pero qué se sigue de aquí?\n"
     ]
    }
   ],
   "source": [
    "df[\"preguntas_filosoficas\"] = df[\"contenido\"].apply(extraer_preguntas)\n",
    "\n",
    "# Ejemplo de preguntas encontradas\n",
    "for index, row in df.iterrows():\n",
    "    print(f\"{row['titulo']} - Preguntas Filosóficas:\")\n",
    "    for pregunta in row[\"preguntas_filosoficas\"]:\n",
    "        print(f\"{pregunta}\")"
   ]
  },
  {
   "cell_type": "code",
   "execution_count": 8,
   "metadata": {},
   "outputs": [],
   "source": [
    "\"\"\"\n",
    "Identificacion de conceptos Filosóficos Clave\n",
    "Named Entity Recognition para identificar entidades relevantes (valores, conceptos, eventos)\n",
    "\"\"\"\n",
    "def extraer_entidades(texto):\n",
    "    doc = nlp(texto)\n",
    "    entidades = [(ent.text, ent.label_) for ent in doc.ents]\n",
    "    return entidades"
   ]
  },
  {
   "cell_type": "code",
   "execution_count": 9,
   "metadata": {},
   "outputs": [
    {
     "name": "stdout",
     "output_type": "stream",
     "text": [
      "         titulo                                    conceptos_clave\n",
      "0      Clitofon  [(clitofon, PER), (sócrates, PER), (sócrates, ...\n",
      "1        Cartas  [(dion dionisio platón, PER), (dion aristodoro...\n",
      "2   De lo justo                                     [(simón, PER)]\n",
      "3  De la virtud      [(hé serie, MISC), (aristides pericles, PER)]\n",
      "4        Axioco                           [(sócrates axioco, PER)]\n"
     ]
    }
   ],
   "source": [
    "df[\"conceptos_clave\"] = df[\"contenido_procesado\"].apply(extraer_entidades)\n",
    "\n",
    "# Mostrar algunos conceptos extraídos\n",
    "print(df[[\"titulo\", \"conceptos_clave\"]].head())"
   ]
  },
  {
   "cell_type": "code",
   "execution_count": 11,
   "metadata": {},
   "outputs": [],
   "source": [
    "\"\"\"\n",
    "Filtrado de Fragmentos Estilo Socrático\n",
    "Detectamos fragmentos que siguen un patron de pregunta-respuesta o donde predomina el razonamientos dialéctico.\n",
    "\"\"\"\n",
    "def extraer_fragmentos_socraticos(texto):\n",
    "    lineas = texto.split(\"\\n\")\n",
    "    fragmentos = [linea for linea in lineas if \"¿\" in linea or \":\" in linea]\n",
    "    return \" \".join(fragmentos)"
   ]
  },
  {
   "cell_type": "code",
   "execution_count": 12,
   "metadata": {},
   "outputs": [
    {
     "name": "stdout",
     "output_type": "stream",
     "text": [
      "         titulo                              fragmentos_socraticos\n",
      "0      Clitofon                                                   \n",
      "1        Cartas  La correspondencia que sigue comprende trece c...\n",
      "2   De lo justo  ¿Qué es lo justo? Este es el comienzo , y el a...\n",
      "3  De la virtud  Hé aquí otra serie de preguntas y respuestas d...\n",
      "4        Axioco  La vida no es más que un viaje; y es natural, ...\n"
     ]
    }
   ],
   "source": [
    "df[\"fragmentos_socraticos\"] = df[\"contenido\"].apply(extraer_fragmentos_socraticos)\n",
    "\n",
    "# Mostrar fragmentos seleccionados\n",
    "print(df[[\"titulo\", \"fragmentos_socraticos\"]].head())"
   ]
  },
  {
   "cell_type": "code",
   "execution_count": 13,
   "metadata": {},
   "outputs": [],
   "source": [
    "# Definir el directorio de salida\n",
    "output_directory = r\"C:\\Users\\Lucas\\Desktop\\Socrates\\llm_proyect\\data\\procesed\"\n",
    "\n",
    "# Guardar los DataFrames procesados\n",
    "df.to_csv(os.path.join(output_directory, \"escritos_socraticos_procesados.csv\"), index=False)\n"
   ]
  }
 ],
 "metadata": {
  "kernelspec": {
   "display_name": "Python 3",
   "language": "python",
   "name": "python3"
  },
  "language_info": {
   "codemirror_mode": {
    "name": "ipython",
    "version": 3
   },
   "file_extension": ".py",
   "mimetype": "text/x-python",
   "name": "python",
   "nbconvert_exporter": "python",
   "pygments_lexer": "ipython3",
   "version": "3.11.4"
  }
 },
 "nbformat": 4,
 "nbformat_minor": 2
}
