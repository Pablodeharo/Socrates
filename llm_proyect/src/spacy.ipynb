{
 "cells": [
  {
   "cell_type": "code",
   "execution_count": 4,
   "metadata": {},
   "outputs": [],
   "source": [
    "import spacy\n",
    "import pandas as pd"
   ]
  },
  {
   "cell_type": "code",
   "execution_count": null,
   "metadata": {},
   "outputs": [
    {
     "name": "stdout",
     "output_type": "stream",
     "text": [
      "               titulo                                            dialogo\n",
      "0            Clitofon   Clitofon, acusado por Sócrates de haber censu...\n",
      "1               Fedón   El El relato histórico consiste en la pintura...\n",
      "2     Timeo de Locres   Timeo, nacido entre los locrios epicefirianos...\n",
      "3  segundo Alcibíades   No debe orarse ligeramente. Dirigir a los dio...\n",
      "4            Clitofon   Sócrates Clitofon, hijo de Aristonimo, me han...\n"
     ]
    }
   ],
   "source": [
    "# Cargar el archivo CSV\n",
    "df = pd.read_csv(r\"C:\\Users\\Lucas\\Desktop\\Socrates\\llm_proyect\\data\\limpios\\dialogos_procesados.csv\")\n",
    "\n",
    "# Ver las primeras filas para entender la estructura\n",
    "print(df.head())"
   ]
  },
  {
   "cell_type": "code",
   "execution_count": 11,
   "metadata": {},
   "outputs": [],
   "source": [
    "nlp = spacy.load(\"es_core_news_sm\")\n",
    "\n",
    "# Aplicar el modelo a cada diálogo\n",
    "df[\"procesado\"] = df[\"dialogo\"].apply(nlp)"
   ]
  },
  {
   "cell_type": "code",
   "execution_count": 12,
   "metadata": {},
   "outputs": [],
   "source": [
    "palabras_clave = [\"saber\", \"conocer\", \"pensar\", \"razón\", \"verdad\", \"bien\", \"justicia\"]\n",
    "\n",
    "df[\"contiene_palabras_socraticas\"] = df[\"dialogo\"].apply(lambda x: any(palabra in x.lower() for palabra in palabras_clave))"
   ]
  },
  {
   "cell_type": "code",
   "execution_count": 13,
   "metadata": {},
   "outputs": [
    {
     "name": "stdout",
     "output_type": "stream",
     "text": [
      "[('decir', 1338), ('tener', 1065), ('hacer', 1000), ('saber', 556), ('parecer', 520), ('ver', 486), ('querer', 381), ('creer', 342), ('hablar', 336), ('dar', 297)]\n"
     ]
    }
   ],
   "source": [
    "from collections import Counter\n",
    "\n",
    "verbos = []\n",
    "for doc in df[\"procesado\"]:\n",
    "    verbos.extend([token.lemma_ for token in doc if token.pos_ == \"VERB\"])\n",
    "\n",
    "# Contar los verbos más usados\n",
    "contar_verbos = Counter(verbos).most_common(10)\n",
    "print(contar_verbos)"
   ]
  }
 ],
 "metadata": {
  "kernelspec": {
   "display_name": "Python 3",
   "language": "python",
   "name": "python3"
  },
  "language_info": {
   "codemirror_mode": {
    "name": "ipython",
    "version": 3
   },
   "file_extension": ".py",
   "mimetype": "text/x-python",
   "name": "python",
   "nbconvert_exporter": "python",
   "pygments_lexer": "ipython3",
   "version": "3.11.4"
  }
 },
 "nbformat": 4,
 "nbformat_minor": 2
}
